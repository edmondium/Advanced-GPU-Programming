{
  "cells": [
    {
      "cell_type": "markdown",
      "metadata": {},
      "source": [
        "## Session 3: Cooperative Groups\n",
        "\n",
        "### Task 1\n",
        "\n",
        "In this task we transform a legacy kernel written with the classical\n",
        "CUDA threading model into a kernel using Cooperative Groups (CG). We do\n",
        "this with an example to search for the maximum value of an array.\n",
        "\n",
        "The program does run in its initial version and does produce correct\n",
        "output.\n",
        "\n",
        "Work on the TODOs to implement the changes.\n",
        "\n",
        "Compile with `make` and submit the executable to the batch system with\n",
        "`make run`."
      ],
      "id": "3e681ca9-53da-4537-8757-692b269dceab"
    }
  ],
  "nbformat": 4,
  "nbformat_minor": 5,
  "metadata": {
    "kernelspec": {
      "display_name": "Python 3",
      "language": "python",
      "name": "python3"
    },
    "language_info": {
      "codemirror_mode": {
        "name": "ipython",
        "version": 3
      },
      "file_extension": ".py",
      "mimetype": "text/x-python",
      "name": "python",
      "nbconvert_exporter": "python",
      "pygments_lexer": "ipython3",
      "version": "3.9.6"
    }
  }
}
