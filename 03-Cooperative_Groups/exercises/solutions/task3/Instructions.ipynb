{
  "cells": [
    {
      "cell_type": "markdown",
      "metadata": {},
      "source": [
        "## Session 3: Cooperative Groups\n",
        "\n",
        "### Task 3\n",
        "\n",
        "With the tiled partitions from Task 2 we simplify the code to use\n",
        "warp-level intrinsic operations.\n",
        "\n",
        "In comparison to Task 2, the base code here is templated with the tile\n",
        "size as the template parameter.\n",
        "\n",
        "Go through the `TODO`s to remove all references to shared memory in the\n",
        "calling kernel and reduce the `maxFunction()` to a for loop over the\n",
        "group intrinsic `shfl_down()`. We can directly access the data elements\n",
        "stored in different lanes of the warp.\n",
        "\n",
        "The definition of `shfl_down()` is\n",
        "\n",
        "``` cpp\n",
        "T shfl_down(T value, unsigned int delta)\n",
        "```\n",
        "\n",
        "As all warp-level operations (\\>= CUDA 9), the function synchronizes its\n",
        "parent group. Explicit `sync()` calls are not needed.\n",
        "\n",
        "See also [the CUDA\n",
        "documentation](https://docs.nvidia.com/cuda/cuda-c-programming-guide/index.html#warp-shuffle-functions)."
      ],
      "id": "75cd21ca-bc13-4f34-bc0f-bb477c1b6168"
    }
  ],
  "nbformat": 4,
  "nbformat_minor": 5,
  "metadata": {
    "kernelspec": {
      "display_name": "Python 3",
      "language": "python",
      "name": "python3"
    },
    "language_info": {
      "codemirror_mode": {
        "name": "ipython",
        "version": 3
      },
      "file_extension": ".py",
      "mimetype": "text/x-python",
      "name": "python",
      "nbconvert_exporter": "python",
      "pygments_lexer": "ipython3",
      "version": "3.9.6"
    }
  }
}
