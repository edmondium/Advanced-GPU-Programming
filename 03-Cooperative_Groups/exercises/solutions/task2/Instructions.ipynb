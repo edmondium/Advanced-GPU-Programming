{
  "cells": [
    {
      "cell_type": "markdown",
      "metadata": {},
      "source": [
        "## Session 3: Cooperative Groups\n",
        "\n",
        "### Task 2\n",
        "\n",
        "Using the result of the previous exercise, this task shows the usage of\n",
        "a **statically-tiled partition**.\n",
        "\n",
        "#### Description\n",
        "\n",
        "The device-side function `maxFunction`, operating on a group of\n",
        "arbitrary size and returning the group's maximum element, stays exactly\n",
        "the same.\n",
        "\n",
        "Alterations are to be done in the calling kernel `maxKernel` which\n",
        "should partition the current block into tiles of static size of 16\n",
        "threads. See the TODOs in the source code.\n",
        "\n",
        "As usual, compile with `make` and run with `make run`.\n",
        "\n",
        "#### Atomic Operations\n",
        "\n",
        "The code makes use of atomic operations in the final lines of the\n",
        "kernel. Atomic, or *locking*, operations are used when multiple threads\n",
        "access the exact same memory location for writing. Since thread\n",
        "execution is non-deterministic in CUDA it can not be guaranteed that one\n",
        "thread reads/writes a position in memory before another thread. It even\n",
        "can not be guaranteed that a value just read by one thread has not been\n",
        "changed by another thread directly afterwards. Atomic operations lock\n",
        "the memory location for usage by the calling thread and halt other\n",
        "atomic operations until after release of the lock.\n",
        "\n",
        "Atomic operations come in many flavors but all work in the same manner:\n",
        "The value at a certain address in memory is compared to a given value.\n",
        "Depending on the exact atomic operation, the value at the address is\n",
        "updated or not. Usually, the old value stored at the address is\n",
        "returned. See also [CUDA documentation on Atomic\n",
        "Functions](https://docs.nvidia.com/cuda/cuda-c-programming-guide/index.html#atomic-functions).\n",
        "\n",
        "Examples of atomic functions in CUDA:\n",
        "\n",
        "-   `int atomicAdd(int* address, int val);` Add `val` to the value at\n",
        "    `address`; return old value (also available with other data types)\n",
        "-   `int atomicExch(int* address, int val);` Store `val` at `address`\n",
        "    location; return old value (also available for `float`)\n",
        "-   `int atomicMin(int* address, int val);` Store the minimum of `val`\n",
        "    and the value at `address` at `address` location; return old value\n",
        "-   `int atomicCAS(int* address, int compare, int val);` The value at\n",
        "    `address` is compared to `compare`. If true, `val` is stored at\n",
        "    `address`; if false, the old value at `address` is stored. The old\n",
        "    value at `address` is returned. This is the basic atomic function\n",
        "    with which many other atomic operations can be implemented."
      ],
      "id": "1653f689-7b80-4934-a926-1cc03041aa1f"
    }
  ],
  "nbformat": 4,
  "nbformat_minor": 5,
  "metadata": {
    "kernelspec": {
      "display_name": "Python 3",
      "language": "python",
      "name": "python3"
    },
    "language_info": {
      "codemirror_mode": {
        "name": "ipython",
        "version": 3
      },
      "file_extension": ".py",
      "mimetype": "text/x-python",
      "name": "python",
      "nbconvert_exporter": "python",
      "pygments_lexer": "ipython3",
      "version": "3.9.6"
    }
  }
}
