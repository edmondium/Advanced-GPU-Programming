{
 "cells": [
  {
   "attachments": {},
   "cell_type": "markdown",
   "metadata": {},
   "source": [
    "# Advanced GPU Programming 2023\n",
    "\n",
    "* Date: 19 - 23 April 2023\n",
    "* Location: _online_\n",
    "* Institue: Jülich Supercomputing Centre"
   ]
  },
  {
   "attachments": {},
   "cell_type": "markdown",
   "metadata": {},
   "source": [
    "## CUDA Fortran task 1\n",
    "\n",
    "### The first CUDA Fortran program\n",
    "\n",
    "In this exercise, we'll scale a vector (array) of single-precision numbers by a scalar. You'll learn \n",
    "to write simple CUDA Fortran codes employing explicit data transfer as well as unified memory.\n",
    "\n",
    "- Please open up a Terminal window via `File` → `New` → `Terminal`.\n",
    "\n",
    "- In the Terminal, navigate to `07-CUDA_Fortran/exercises/tasks/scale_vector`.\n",
    "\n",
    "- Take a look at scale_vector.cuf and scale_vector_um.cuf and look for TODOs.\n",
    "\n",
    "- The `global` attribute is necessary to specify your kernels.\n",
    "\n",
    "   `attributes(global) subroutine mySub`\n",
    "\n",
    "\n",
    "- Since Fortran 2003, you can pass argument by value using `value` type declaration attribute.\n",
    "\n",
    "   `integer,value :: myInt`\n",
    "   \n",
    " \n",
    "- Use device attribute to declare device arrays.\n",
    "\n",
    "   `integer,allocatable,device :: myInt(:)`\n",
    "   \n",
    "   \n",
    "- Use `managed` attribute to declare unified memory arrays.\n",
    "\n",
    "   `integer,managed,allocatable :: myInt(:)`\n",
    " \n",
    " \n",
    "- If necessary, use native Fortran copy notation to transfer data.\n",
    "\n",
    "   `myArr=myArr_d`\n",
    " \n",
    " \n",
    "-  Be sure to load the custom modules of this task.\n",
    "\n",
    "   `source setup.sh`\n",
    " \n",
    "\n",
    "-  Use `make` for compilation.\n",
    "\n",
    "  `make`\n",
    "\n",
    "\n",
    "- To run your code, call `srun` with the correct parameters. A shortcut is given via\n",
    "\n",
    "  `make run`\n",
    "    \n",
    "    or\n",
    "  \n",
    "  `make run-um`\n",
    "\n",
    "\n"
   ]
  },
  {
   "cell_type": "code",
   "execution_count": null,
   "metadata": {},
   "outputs": [],
   "source": []
  }
 ],
 "metadata": {
  "kernelspec": {
   "display_name": "Python 3",
   "language": "python",
   "name": "python3"
  },
  "language_info": {
   "codemirror_mode": {
    "name": "ipython",
    "version": 3
   },
   "file_extension": ".py",
   "mimetype": "text/x-python",
   "name": "python",
   "nbconvert_exporter": "python",
   "pygments_lexer": "ipython3",
   "version": "3.8.5"
  }
 },
 "nbformat": 4,
 "nbformat_minor": 4
}
