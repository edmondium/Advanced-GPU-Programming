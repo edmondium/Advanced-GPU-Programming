{
 "cells": [
  {
   "attachments": {},
   "cell_type": "markdown",
   "metadata": {},
   "source": [
    "# Advanced GPU Programming 2023\n",
    "\n",
    "* Date: 19 - 23 April 2023\n",
    "* Location: _online_\n",
    "* Institue: Jülich Supercomputing Centre"
   ]
  },
  {
   "attachments": {},
   "cell_type": "markdown",
   "metadata": {},
   "source": [
    "## CUDA Fortran task 4\n",
    "\n",
    "### Fortran array intrinsics using Tensor Cores\n",
    "\n",
    "The file mmul-GPU.cuf is to be GPU-accelerated using cutensorex library.\n",
    "\n",
    "- Please open up a Terminal window via `File` → `New` → `Terminal`.\n",
    "\n",
    "- In the Terminal, navigate to `07-CUDA_Fortran/exercises/tasks/matmul-cutensor`.\n",
    "\n",
    "- Take a look at mmul-GPU.cuf and look for TODOs.\n",
    "\n",
    "- Use device attribute to declare device arrays.\n",
    "\n",
    "   `integer,allocatable,device:: myInt(:)`\n",
    "   \n",
    " \n",
    "- Use Fortran array notation for data transfer.\n",
    "\n",
    "   `myArr=myArr_d`\n",
    "   \n",
    "-  Remember to include  cutensorex! \n",
    "\n",
    "   `use cutensorex`\n",
    " \n",
    "\n",
    "\n",
    "-  Be sure to load the custom modules of this task.\n",
    "\n",
    "   `source setup.sh`\n",
    " \n",
    "\n",
    "-  Use `make` for compilation.\n",
    "\n",
    "  `make`\n",
    "\n",
    "\n",
    "- To run your code, call `srun` with the correct parameters. A shortcut is given via\n",
    "\n",
    "  `make run`\n",
    "    \n",
    "\n",
    "\n"
   ]
  },
  {
   "cell_type": "code",
   "execution_count": null,
   "metadata": {},
   "outputs": [],
   "source": []
  }
 ],
 "metadata": {
  "kernelspec": {
   "display_name": "Python 3",
   "language": "python",
   "name": "python3"
  },
  "language_info": {
   "codemirror_mode": {
    "name": "ipython",
    "version": 3
   },
   "file_extension": ".py",
   "mimetype": "text/x-python",
   "name": "python",
   "nbconvert_exporter": "python",
   "pygments_lexer": "ipython3",
   "version": "3.8.5"
  }
 },
 "nbformat": 4,
 "nbformat_minor": 4
}
