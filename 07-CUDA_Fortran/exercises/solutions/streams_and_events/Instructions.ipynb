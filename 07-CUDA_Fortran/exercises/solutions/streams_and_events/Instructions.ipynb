{
 "cells": [
  {
   "attachments": {},
   "cell_type": "markdown",
   "metadata": {},
   "source": [
    "# Advanced GPU Programming 2023\n",
    "\n",
    "* Date: 19 - 23 April 2023\n",
    "* Location: _online_\n",
    "* Institue: Jülich Supercomputing Centre"
   ]
  },
  {
   "attachments": {},
   "cell_type": "markdown",
   "metadata": {},
   "source": [
    "## CUDA Fortran task 3\n",
    "\n",
    "### CUDA events, Pinned Host Memory and CUDA Streams\n",
    "\n",
    "\n",
    "- Please open up a Terminal window via `File` → `New` → `Terminal`.\n",
    "\n",
    "- In the Terminal, navigate to `07-CUDA_Fortran/exercises/tasks/streams_and_events`.\n",
    "\n",
    "- For more info see \n",
    "\n",
    "### task_a: CUDA events\n",
    "\n",
    "- Measure the data transfer time using CUDA events.\n",
    "- Take a look at task_a.cuf and look for TODOs.\n",
    "- documentation for further information: <https://docs.nvidia.com/hpc-sdk/compilers/cuda-fortran-prog-guide/#event-mgmt>.\n",
    "\n",
    "### task_b: Pinned memory\n",
    "\n",
    "- Use Pinned host memory and allocate host buffer in pinned memory.\n",
    "- Compare the performance pinned memory version to the paged one.\n",
    "\n",
    "### task_c: Streams\n",
    "\n",
    "- Use different streams for upload and download.\n",
    "- remember to use pinned host memory.\n",
    "- Profile task_c and compare it to profile for task_b. \n",
    "\n",
    "### Notes\n",
    "\n",
    "-  Be sure to load the custom modules of this task.\n",
    "\n",
    "   `source setup.sh`\n",
    " \n",
    "\n",
    "-  Use `make` for compilation.\n",
    "\n",
    "   `make task_a`\n",
    "\n",
    "   `make task_b`\n",
    "\n",
    "   `make task_c`\n",
    "\n",
    "\n",
    "- To run your code, call `srun` with the correct parameters. A shortcut is given via\n",
    "\n",
    "  `make run_task_a`\n",
    "\n",
    "  `make run_task_b`\n",
    "  \n",
    "  `make run_task_c`\n",
    "\n",
    "- to profile use:\n",
    "\n",
    "  `make profile_task_a`\n",
    "\n",
    "  `make profile_task_b`\n",
    "  \n",
    "  `make profile_task_c`\n",
    "\n",
    "    \n",
    "\n",
    "\n"
   ]
  },
  {
   "cell_type": "code",
   "execution_count": null,
   "metadata": {},
   "outputs": [],
   "source": []
  }
 ],
 "metadata": {
  "kernelspec": {
   "display_name": "Python 3",
   "language": "python",
   "name": "python3"
  },
  "language_info": {
   "codemirror_mode": {
    "name": "ipython",
    "version": 3
   },
   "file_extension": ".py",
   "mimetype": "text/x-python",
   "name": "python",
   "nbconvert_exporter": "python",
   "pygments_lexer": "ipython3",
   "version": "3.8.5"
  }
 },
 "nbformat": 4,
 "nbformat_minor": 4
}
