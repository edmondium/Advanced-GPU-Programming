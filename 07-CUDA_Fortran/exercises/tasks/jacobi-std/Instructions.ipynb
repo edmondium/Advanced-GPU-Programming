{
 "cells": [
  {
   "attachments": {},
   "cell_type": "markdown",
   "metadata": {},
   "source": [
    "# Advanced GPU Programming 2023\n",
    "\n",
    "* Date: 19 - 23 April 2023\n",
    "* Location: _online_\n",
    "* Institue: Jülich Supercomputing Centre"
   ]
  },
  {
   "attachments": {},
   "cell_type": "markdown",
   "metadata": {},
   "source": [
    "## ISO standars Fortran task \n",
    "\n",
    "### Jacobi solver with `do concurrent`\n",
    "\n",
    "The file poisson2d.f90 is to be GPU-accelerated using `do concurrent`.\n",
    "\n",
    "- Please open up a Terminal window via `File` → `New` → `Terminal`.\n",
    "\n",
    "- In the Terminal, navigate to `07-CUDA_Fortran/exercises/tasks/jacobi-std`.\n",
    "\n",
    "- Take a look at poisson2d.f90 and look for TODOs.\n",
    "\n",
    "   \n",
    "   \n",
    "- Use `DO CONCURRENT (...) [locality-spec]` to accelerate the loop.\n",
    "\n",
    "    `do concurrent (i = 1: n, j=1,m)`\n",
    "    \n",
    "    \n",
    "- Compare the results with the explicit and CUF kernel versions.\n",
    "    \n",
    "\n",
    "-  Be sure to load the custom modules of this task.\n",
    "\n",
    "   `source setup.sh`\n",
    " \n",
    "\n",
    "-  Use `make` for compilation.\n",
    "\n",
    "  `make`\n",
    "\n",
    "\n",
    "- To run your code, call `srun` with the correct parameters. A shortcut is given via\n",
    "\n",
    "  `make run`\n",
    "    \n",
    "\n",
    "\n"
   ]
  },
  {
   "cell_type": "code",
   "execution_count": null,
   "metadata": {},
   "outputs": [],
   "source": []
  }
 ],
 "metadata": {
  "kernelspec": {
   "display_name": "Python 3",
   "language": "python",
   "name": "python3"
  },
  "language_info": {
   "codemirror_mode": {
    "name": "ipython",
    "version": 3
   },
   "file_extension": ".py",
   "mimetype": "text/x-python",
   "name": "python",
   "nbconvert_exporter": "python",
   "pygments_lexer": "ipython3",
   "version": "3.8.5"
  }
 },
 "nbformat": 4,
 "nbformat_minor": 4
}
