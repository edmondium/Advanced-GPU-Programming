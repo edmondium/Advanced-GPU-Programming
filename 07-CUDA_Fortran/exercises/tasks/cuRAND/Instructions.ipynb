{
 "cells": [
  {
   "attachments": {},
   "cell_type": "markdown",
   "metadata": {},
   "source": [
    "# Advanced GPU Programming 2023\n",
    "\n",
    "* Date: 19 - 23 April 2023\n",
    "* Location: _online_\n",
    "* Institue: Jülich Supercomputing Centre"
   ]
  },
  {
   "attachments": {},
   "cell_type": "markdown",
   "metadata": {},
   "source": [
    "## cuRAND\n",
    "\n",
    "### Crude Monte Carlo Integration using cuRAND\n",
    "\n",
    "In this exercise, we'll generate random number using cuRAND and use it for Monte Carlo integration. See cuRAND documentation for further information:\n",
    "https://docs.nvidia.com/cuda/curand/index.html  \n",
    "https://docs.nvidia.com/hpc-sdk/compilers/fortran-cuda-interfaces/index.html#cfrand-runtime\n",
    "\n",
    "- Please open up a Terminal window via `File` → `New` → `Terminal`.\n",
    "\n",
    "\n",
    "- In the Terminal, navigate to `07-CUDA_Fortran/exercises/tasks/cuRAND`.\n",
    "\n",
    "\n",
    "- Take a look at `MCint.cuf` (Fortran) and look for TODOs.\n",
    "\n",
    "\n",
    "- Use the `curand` module.   \n",
    "\n",
    "\n",
    "- Use `curandGenerator` type to declare the generator.\n",
    "\n",
    "\n",
    "- Create the generator.\n",
    " \n",
    " \n",
    "\n",
    "- Set a seed (optional).\n",
    "\n",
    "   \n",
    "   \n",
    "- Generate uniform double precision sample and store that in `x_d`. \n",
    "\n",
    " \n",
    " \n",
    "- Destroy the generator.\n",
    "\n",
    " \n",
    " \n",
    "-  Be sure to load the custom modules of this task.\n",
    "\n",
    "   `source setup.sh`\n",
    "\n",
    " \n",
    "\n",
    "-  Use `make` for compilation.\n",
    "\n",
    "   `make`\n",
    "\n",
    "\n",
    "- To run your code, call `srun` with the correct parameters. A shortcut is given via\n",
    "\n",
    "   `make run`\n",
    "    \n",
    "\n",
    "\n"
   ]
  },
  {
   "cell_type": "code",
   "execution_count": null,
   "metadata": {},
   "outputs": [],
   "source": []
  }
 ],
 "metadata": {
  "kernelspec": {
   "display_name": "Python 3",
   "language": "python",
   "name": "python3"
  },
  "language_info": {
   "codemirror_mode": {
    "name": "ipython",
    "version": 3
   },
   "file_extension": ".py",
   "mimetype": "text/x-python",
   "name": "python",
   "nbconvert_exporter": "python",
   "pygments_lexer": "ipython3",
   "version": "3.8.5"
  }
 },
 "nbformat": 4,
 "nbformat_minor": 4
}
