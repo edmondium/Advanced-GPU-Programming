{
  "cells": [
    {
      "cell_type": "markdown",
      "metadata": {},
      "source": [
        "# Advanced GPU Programming\n",
        "\n",
        "-   Date: 3 – 7 June 2024\n",
        "-   Location: *online*\n",
        "-   Institute: Jülich Supercomputing Centre\n",
        "\n",
        "## Session 9: pSTL\n",
        "\n",
        "We’ll be using the Nvidia HPC SDK for these exercise and some Python for\n",
        "plotting. Please load `NVHPC` and `SciPy-Stack` by typing\n",
        "\n",
        "``` bash\n",
        "ml NVHPC\n",
        "ml SciPy-Stack\n",
        "```\n",
        "\n",
        "### Task 1: Writing saxpy with std::transform\n",
        "\n",
        "#### Setup\n",
        "\n",
        "Go to `~/CUDA-Course-Adv/09-pSTL/exercises/tasks/transform`.\n",
        "\n",
        "In this task you will write a axpy routine for arbitrary numerical types\n",
        "using std::transform.\n",
        "\n",
        "Please follow the instruction in the source code.\n",
        "\n",
        "### Task 2: Writing saxpy using std::for_each\n",
        "\n",
        "#### Setup\n",
        "\n",
        "Go to `~/CUDA-Course-Adv/09-CUDA++/exercises/tasks/for_each`.\n",
        "\n",
        "In this task you will write a axpy routine for arbitrary numerical types\n",
        "using std::for_each and an index array or a counting iterator.\n",
        "\n",
        "Please follow the instruction in the source code.\n",
        "\n",
        "### Task 3: Writing saxpy using thrust::for_each\n",
        "\n",
        "#### Setup\n",
        "\n",
        "Go to `~/CUDA-Course-Adv/09-CUDA++/exercises/tasks/thrust_for_each`.\n",
        "\n",
        "In this task you will write a axpy routine for arbitrary numerical types\n",
        "using thrust::for_each and an index array or a counting iterator.\n",
        "\n",
        "Please follow the instruction in the source code.\n",
        "\n",
        "### Task 4: Writing a Jacobi solver\n",
        "\n",
        "#### Setup\n",
        "\n",
        "Go to `~/CUDA-Course-Adv/09-pSTL/exercises/tasks/jacobi`.\n",
        "\n",
        "In this task you will learn how to implement the Jacobi solver using\n",
        "algorithms from the standard library.\n",
        "\n",
        "Please follow the instruction in the source code.\n",
        "\n",
        "Visualize the final output by running the following cell:"
      ],
      "id": "72cc707f-a262-4c01-b713-bfb8272b7322"
    },
    {
      "cell_type": "code",
      "execution_count": null,
      "metadata": {},
      "outputs": [],
      "source": [
        "%matplotlib inline\n",
        "import matplotlib.pyplot as plt\n",
        "import numpy\n",
        "data = numpy.loadtxt(\"exercises/tasks/jacobi/final.dat\")\n",
        "plt.imshow(data)\n",
        "plt.colorbar()"
      ],
      "id": "720f08cd-f50e-413e-994c-163d00fc48bd"
    },
    {
      "cell_type": "markdown",
      "metadata": {},
      "source": [
        "### Task 5: Calculate the Mandelbrot set with std::transform\n",
        "\n",
        "Start with the escape_time function from 05-Modern_C++ and use\n",
        "std::transform to implement the calculation of the Mandelbrot set.\n",
        "\n",
        "Create a directory\n",
        "`~/CUDA-Course-Adv/09-pSTL/exercises/tasks/mandelbrot` and start coding."
      ],
      "id": "dc5bcdc0-4b56-4a9d-928c-924428bdeae0"
    }
  ],
  "nbformat": 4,
  "nbformat_minor": 5,
  "metadata": {
    "kernelspec": {
      "display_name": "Python 3",
      "language": "python",
      "name": "python3"
    },
    "language_info": {
      "codemirror_mode": {
        "name": "ipython",
        "version": 3
      },
      "file_extension": ".py",
      "mimetype": "text/x-python",
      "name": "python",
      "nbconvert_exporter": "python",
      "pygments_lexer": "ipython3",
      "version": "3.9.6"
    }
  }
}
