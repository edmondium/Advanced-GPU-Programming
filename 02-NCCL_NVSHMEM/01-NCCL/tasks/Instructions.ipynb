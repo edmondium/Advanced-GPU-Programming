{
  "cells": [
    {
      "cell_type": "markdown",
      "metadata": {},
      "source": [
        "# Hands-On 1: Using NCCL for Inter-GPU Communication\n",
        "\n",
        "## Description\n",
        "\n",
        "The purpose of this task is to use NCCL instead of MPI to implement a\n",
        "multi-GPU Jacobi solver. The starting point of this task is the MPI\n",
        "variant of the Jacobi solver. You need to work on `TODO`s in\n",
        "`jacobi.cpp`:\n",
        "\n",
        "-   Initialize NCCL:\n",
        "    -   Include NCCL headers\n",
        "    -   Create a NCCL unique ID, and initialize it\n",
        "    -   Create a NCCL communicator and initilize it\n",
        "-   Replace the `MPI_Sendrecv` calls with `ncclRecv` and `ncclSend`\n",
        "    calls for the warmup stage\n",
        "    -   Replace MPI for the periodic boundary conditions with NCCL\n",
        "    -   Fix output message to indicate NCCL rather than MPI\n",
        "    -   Destroy NCCL comunicator\n",
        "\n",
        "Compile with\n",
        "\n",
        "``` bash\n",
        "make\n",
        "```\n",
        "\n",
        "Submit your compiled application to the batch system with\n",
        "\n",
        "``` bash\n",
        "make run\n",
        "```\n",
        "\n",
        "Study the performance by inspecting the profile generated with\n",
        "`make profile`.\n",
        "\n",
        "For `make run` and `make profile`, the environment variable `NP` can be\n",
        "set to change the number of processes."
      ]
    }
  ],
  "nbformat": 4,
  "nbformat_minor": 5,
  "metadata": {
    "kernelspec": {
      "display_name": "Python 3",
      "language": "python",
      "name": "python3"
    },
    "language_info": {
      "codemirror_mode": {
        "name": "ipython",
        "version": 3
      },
      "file_extension": ".py",
      "mimetype": "text/x-python",
      "name": "python",
      "nbconvert_exporter": "python",
      "pygments_lexer": "ipython3",
      "version": "3.6.8"
    }
  }
}
