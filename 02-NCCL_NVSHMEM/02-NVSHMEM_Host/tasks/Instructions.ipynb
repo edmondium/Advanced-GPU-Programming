{
  "cells": [
    {
      "cell_type": "markdown",
      "metadata": {},
      "source": [
        "# Hands-On 2: Host-initiated Communication with NVSHMEM\n",
        "\n",
        "## Description\n",
        "\n",
        "Now we use the NVSHMEM host API instead of MPI to implement a multi-GPU\n",
        "Jacobi solver. The starting point of this task is the MPI variant of the\n",
        "Jacobi solver. You need to work on `TODOs` in `jacobi.cu`:\n",
        "\n",
        "-   Initialize NVSHMEM:\n",
        "    -   Include NVSHMEM headers.\n",
        "    -   Initialize NVSHMEM using `MPI_COMM_WORLD`.\n",
        "-   Allocate work arrays `a` and `a_new` from the NVSHMEM symmetric\n",
        "    heap. Ensure you pass in the same, consistent size for all ranks!\n",
        "-   Calculate halo/boundary row index of the top and bottom neighbors.\n",
        "-   Add necessary inter PE synchronization.\n",
        "-   Replace MPI periodic boundary conditions with\n",
        "    `nvshmemx_float_put_on_stream` to directly push values needed by the\n",
        "    top and bottom neighbors.\n",
        "-   Deallocate memory from the NVSHMEM symetric heap.\n",
        "-   Finalize NVSHMEM before exiting the application\n",
        "\n",
        "Compile with\n",
        "\n",
        "``` bash\n",
        "make\n",
        "```\n",
        "\n",
        "Submit your compiled application to the batch system with\n",
        "\n",
        "``` bash\n",
        "make run\n",
        "```\n",
        "\n",
        "Study the performance by inspecting the profile generated with\n",
        "`make profile`. For `make run` and `make profile`, the environment\n",
        "variable `NP` can be set to change the number of processes.\n",
        "\n",
        "### Note\n",
        "\n",
        "The Slurm installation on the JSC systems sets `CUDA_VISIBLE_DEVICES`\n",
        "automatically so that each spawned process only sees the GPU it should\n",
        "use (see e.g. [GPU\n",
        "Devices](https://apps.fz-juelich.de/jsc/hps/juwels/booster-overview.html#gpu-devices)\n",
        "in the JUWELS Booster Overview documentation).\n",
        "\n",
        "This is not supported for NVSHMEM. The automatic setting of\n",
        "`CUDA_VISIBLE_DEVICES` can be disabled by setting\n",
        "`CUDA_VISIBLE_DEVICES=0,1,2,3` in the shell that executes `srun`.\n",
        "\n",
        "With `CUDA_VISIBLE_DEVICES` set explicitly, all spawned processes can\n",
        "see all GPUs listed. This is automatically done for the `sanitize`,\n",
        "`run` and `profile` make targets."
      ]
    }
  ],
  "nbformat": 4,
  "nbformat_minor": 5,
  "metadata": {
    "kernelspec": {
      "display_name": "Python 3",
      "language": "python",
      "name": "python3"
    },
    "language_info": {
      "codemirror_mode": {
        "name": "ipython",
        "version": 3
      },
      "file_extension": ".py",
      "mimetype": "text/x-python",
      "name": "python",
      "nbconvert_exporter": "python",
      "pygments_lexer": "ipython3",
      "version": "3.6.8"
    }
  }
}
